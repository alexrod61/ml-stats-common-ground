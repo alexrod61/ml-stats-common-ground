{
  "cells": [
    {
      "cell_type": "markdown",
      "metadata": {},
      "source": [
        "# Introduction {#sec-intro}\n",
        "\n",
        "This is a book created from markdown and executable code. See @knuth84 for additional discussion of literate programming.\n",
        "\n",
        "For further reference, you can see @fig-ds-workflow\n",
        "\n",
        "## The Data Science Workflow in Supervised Learning {#sec-ds-workflow}\n",
        "\n",
        "::: {#fig-ds-workflow}\n",
        "[![](https://mermaid.ink/img/pako:eNqtWUtvo0gQ_iuIucxITmJe5qHdWcUhvq002p3TxntoQxO3FrqZ7iYTT5T_vsXDgG1MMNgn1FR99eiqr4rkTQ1YiFVPjWL2M9giLpXv_poq8BPZ5pmjdKuEWJBn-rRWf4sYlYogv_Dv5q31tTxfq_-W8iTUPncIIYkUQn9khBMsQPiLcnPzFYT1txNZQiPMMQ2wUiIyXj2kHIckkITRP9bqe3mGaVg-HHkbsDjGhewZZxqB2vWWOvigPZ33rKVCQuPp7khOoCSNCX2-q6VqN1s28nA6jDRRHlgxnz53hLFBAn85tXIuK4_-_alBOGzdnnUq8II4QZsYK0GMhCARCVDlXnWJi1MdnlFFbrGCX9OYcSQZ3ylF3hFF8U4Q0TJ5Rr1PtTJsP9111GNMXjCHoJMEgaqQ4K2QJAC9uyvYdHpsgrI8MHO5g5UVt0cRLgwKFLpue2hskGc9-GwjEaFn4M-VVALEEefFfprQ-lWbHOancsGWMYGLcuG5VYXjZ46h0hgt4Zvka1oXAUWE4lISjCkp4ijBEvN2jV2suDeodyRKYKlkaRO6gn9kVUt8lC4MF52gbl5q3rUdN04FM8jWXzkvftvJLSRpk5FY3sDVlUoRkTL3KspoySMljUJDcrjf_A0E0ArR7KmbUrcVaekjPq6M2t3RYHtvrIkT4SjhUEhZLEVHu5cvzrC_PpT9tQ4mSTGPGE8qV7a7lEFtA4koMo-46Id9tM6H6cqna8G5TfwBo0Gciarg9lBuR-JE2VV1P1U3VuX92IBssniSjx3uyOEOt_OX_0LCy6mqfF825zDnO_q-5JtGCsKKSNi650KVQkO-oBYH6NqHOStqY9_Nx2BQNPKoW49G9FHolJ36TtnQwLsIBC6FYwVuB2BqWZitLCCFZ3cBygRqejf_bbD8iXExVZvD_WgWZ2M5t3nogzcPzb6YgfZIL7gmIaVmIbhMEpZh5v1wSEZ6B91BYqB6T1q-OkBBkHEU7Fo-H-5BR4Qg8uEuz82s9tsWC-tmx1IbsCTJaL4N7Qu2WBlgqISgXWy5ncNgytZbpmngdjrZ0PAVtX8NLsAGLJ99S-4wjB6BAuCidWWgcAF8-WC3JheBPqwIploaThfXm0J1iJ1zpzPKa1vuov0Ow_2zsUAbQzl9c2cs6JCLHItd5VLu4Dux_JMAEGEce59WK__etGZCcvYf9j4ZhlE93_wkodx6Wvq6PwiR2CLO0c5TrDZe861eYfq2v_T9SZg5h1ZoD_5yuXqYhFYQZQW3dFfuvT0JLv8Eu1r2mn37apANoV0Ps9rHrweYt9B1b1i_3g1XtFEBPjo-QE4GpOx6eO0mn3on9Q5WetruFLvXzVsrfT1U3V_ByvXN5WWqxl7Vcoz7x4tUzfGqVqXqGMuHlXWR6mK8qj3eYWe8qjteVZuPD1bTJujqE3w2JtidUFKaNb4JtAlFpdkTdCeUleaOj1efUFe6Nt5nfUJd6RPqSjcv49Y1VWdqgnmCSKh66luOtlZhaU5gxfXgMcQRgrm8Vtf0HURRJtnfOxqoXoRigWdqlsInGvYJgq_rpD5NEVW9N_VV9XTj1rTnjmMbrrmYu6ZhztSd6mna7dxauJrl2K5uzBe2_j5TfzEGENqtYc_hyHQ1x9Kc-WIxU2FBhXn0Z_lPquJ_VYWNfwoFyTP8_j9MoKVd?type=png)](https://mermaid.live/edit#pako:eNqtWUtvo0gQ_iuIucxITmJe5qHdWcUhvq002p3TxntoQxO3FrqZ7iYTT5T_vsXDgG1MMNgn1FR99eiqr4rkTQ1YiFVPjWL2M9giLpXv_poq8BPZ5pmjdKuEWJBn-rRWf4sYlYogv_Dv5q31tTxfq_-W8iTUPncIIYkUQn9khBMsQPiLcnPzFYT1txNZQiPMMQ2wUiIyXj2kHIckkITRP9bqe3mGaVg-HHkbsDjGhewZZxqB2vWWOvigPZ33rKVCQuPp7khOoCSNCX2-q6VqN1s28nA6jDRRHlgxnz53hLFBAn85tXIuK4_-_alBOGzdnnUq8II4QZsYK0GMhCARCVDlXnWJi1MdnlFFbrGCX9OYcSQZ3ylF3hFF8U4Q0TJ5Rr1PtTJsP9111GNMXjCHoJMEgaqQ4K2QJAC9uyvYdHpsgrI8MHO5g5UVt0cRLgwKFLpue2hskGc9-GwjEaFn4M-VVALEEefFfprQ-lWbHOancsGWMYGLcuG5VYXjZ46h0hgt4Zvka1oXAUWE4lISjCkp4ijBEvN2jV2suDeodyRKYKlkaRO6gn9kVUt8lC4MF52gbl5q3rUdN04FM8jWXzkvftvJLSRpk5FY3sDVlUoRkTL3KspoySMljUJDcrjf_A0E0ArR7KmbUrcVaekjPq6M2t3RYHtvrIkT4SjhUEhZLEVHu5cvzrC_PpT9tQ4mSTGPGE8qV7a7lEFtA4koMo-46Id9tM6H6cqna8G5TfwBo0Gciarg9lBuR-JE2VV1P1U3VuX92IBssniSjx3uyOEOt_OX_0LCy6mqfF825zDnO_q-5JtGCsKKSNi650KVQkO-oBYH6NqHOStqY9_Nx2BQNPKoW49G9FHolJ36TtnQwLsIBC6FYwVuB2BqWZitLCCFZ3cBygRqejf_bbD8iXExVZvD_WgWZ2M5t3nogzcPzb6YgfZIL7gmIaVmIbhMEpZh5v1wSEZ6B91BYqB6T1q-OkBBkHEU7Fo-H-5BR4Qg8uEuz82s9tsWC-tmx1IbsCTJaL4N7Qu2WBlgqISgXWy5ncNgytZbpmngdjrZ0PAVtX8NLsAGLJ99S-4wjB6BAuCidWWgcAF8-WC3JheBPqwIploaThfXm0J1iJ1zpzPKa1vuov0Ow_2zsUAbQzl9c2cs6JCLHItd5VLu4Dux_JMAEGEce59WK__etGZCcvYf9j4ZhlE93_wkodx6Wvq6PwiR2CLO0c5TrDZe861eYfq2v_T9SZg5h1ZoD_5yuXqYhFYQZQW3dFfuvT0JLv8Eu1r2mn37apANoV0Ps9rHrweYt9B1b1i_3g1XtFEBPjo-QE4GpOx6eO0mn3on9Q5WetruFLvXzVsrfT1U3V_ByvXN5WWqxl7Vcoz7x4tUzfGqVqXqGMuHlXWR6mK8qj3eYWe8qjteVZuPD1bTJujqE3w2JtidUFKaNb4JtAlFpdkTdCeUleaOj1efUFe6Nt5nfUJd6RPqSjcv49Y1VWdqgnmCSKh66luOtlZhaU5gxfXgMcQRgrm8Vtf0HURRJtnfOxqoXoRigWdqlsInGvYJgq_rpD5NEVW9N_VV9XTj1rTnjmMbrrmYu6ZhztSd6mna7dxauJrl2K5uzBe2_j5TfzEGENqtYc_hyHQ1x9Kc-WIxU2FBhXn0Z_lPquJ_VYWNfwoFyTP8_j9MoKVd)\n",
        "\n",
        "Data Science workflow for *inferential* and *predictive* inquiries in regression analysis and supervised learning, respectively.\n",
        ":::\n"
      ],
      "id": "38c9b774"
    },
    {
      "cell_type": "code",
      "metadata": {
        "message": false
      },
      "source": [
        "#| label: modelling\n",
        "#| echo: true\n",
        "lemur_data_py = r.lemur_data\n",
        "lemur_data_py\n",
        "\n",
        "import statsmodels.api as sm\n",
        "y = lemur_data_py[[\"Weight\"]]\n",
        "x = lemur_data_py[[\"Age\"]]\n",
        "x = sm.add_constant(x)\n",
        "mod = sm.OLS(y, x).fit()\n",
        "lemur_data_py[\"Predicted\"] = mod.predict(x)\n",
        "lemur_data_py[\"Residuals\"] = mod.resid"
      ],
      "id": "modelling",
      "execution_count": null,
      "outputs": []
    }
  ],
  "metadata": {
    "kernelspec": {
      "display_name": "Python 3",
      "language": "python",
      "name": "python3"
    }
  },
  "nbformat": 4,
  "nbformat_minor": 5
}